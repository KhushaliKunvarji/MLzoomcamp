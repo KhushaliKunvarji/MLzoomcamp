{
 "cells": [
  {
   "cell_type": "code",
   "execution_count": 12,
   "id": "66060979-9306-4a27-a23b-c903eafdf4d7",
   "metadata": {},
   "outputs": [
    {
     "data": {
      "text/plain": [
       "'2.2.2'"
      ]
     },
     "execution_count": 12,
     "metadata": {},
     "output_type": "execute_result"
    }
   ],
   "source": [
    "import pandas as pd\n",
    "import numpy as np\n",
    "pd.__version__\n"
   ]
  },
  {
   "cell_type": "code",
   "execution_count": 13,
   "id": "c5b0650a-c979-48bc-a5a8-1ecfb2ff33d3",
   "metadata": {},
   "outputs": [
    {
     "data": {
      "text/html": [
       "<div>\n",
       "<style scoped>\n",
       "    .dataframe tbody tr th:only-of-type {\n",
       "        vertical-align: middle;\n",
       "    }\n",
       "\n",
       "    .dataframe tbody tr th {\n",
       "        vertical-align: top;\n",
       "    }\n",
       "\n",
       "    .dataframe thead th {\n",
       "        text-align: right;\n",
       "    }\n",
       "</style>\n",
       "<table border=\"1\" class=\"dataframe\">\n",
       "  <thead>\n",
       "    <tr style=\"text-align: right;\">\n",
       "      <th></th>\n",
       "      <th>Manufacturer</th>\n",
       "      <th>Model Name</th>\n",
       "      <th>Category</th>\n",
       "      <th>Screen Size</th>\n",
       "      <th>Screen</th>\n",
       "      <th>CPU</th>\n",
       "      <th>RAM</th>\n",
       "      <th>Storage</th>\n",
       "      <th>GPU</th>\n",
       "      <th>Operating System</th>\n",
       "      <th>Operating System Version</th>\n",
       "      <th>Weight</th>\n",
       "      <th>Price (Euros)</th>\n",
       "    </tr>\n",
       "  </thead>\n",
       "  <tbody>\n",
       "    <tr>\n",
       "      <th>0</th>\n",
       "      <td>Apple</td>\n",
       "      <td>MacBook Pro</td>\n",
       "      <td>Ultrabook</td>\n",
       "      <td>13.3\"</td>\n",
       "      <td>IPS Panel Retina Display 2560x1600</td>\n",
       "      <td>Intel Core i5 2.3GHz</td>\n",
       "      <td>8GB</td>\n",
       "      <td>128GB SSD</td>\n",
       "      <td>Intel Iris Plus Graphics 640</td>\n",
       "      <td>macOS</td>\n",
       "      <td>NaN</td>\n",
       "      <td>1.37kg</td>\n",
       "      <td>1339,69</td>\n",
       "    </tr>\n",
       "    <tr>\n",
       "      <th>1</th>\n",
       "      <td>Apple</td>\n",
       "      <td>Macbook Air</td>\n",
       "      <td>Ultrabook</td>\n",
       "      <td>13.3\"</td>\n",
       "      <td>1440x900</td>\n",
       "      <td>Intel Core i5 1.8GHz</td>\n",
       "      <td>8GB</td>\n",
       "      <td>128GB Flash Storage</td>\n",
       "      <td>Intel HD Graphics 6000</td>\n",
       "      <td>macOS</td>\n",
       "      <td>NaN</td>\n",
       "      <td>1.34kg</td>\n",
       "      <td>898,94</td>\n",
       "    </tr>\n",
       "    <tr>\n",
       "      <th>2</th>\n",
       "      <td>HP</td>\n",
       "      <td>250 G6</td>\n",
       "      <td>Notebook</td>\n",
       "      <td>15.6\"</td>\n",
       "      <td>Full HD 1920x1080</td>\n",
       "      <td>Intel Core i5 7200U 2.5GHz</td>\n",
       "      <td>8GB</td>\n",
       "      <td>256GB SSD</td>\n",
       "      <td>Intel HD Graphics 620</td>\n",
       "      <td>No OS</td>\n",
       "      <td>NaN</td>\n",
       "      <td>1.86kg</td>\n",
       "      <td>575,00</td>\n",
       "    </tr>\n",
       "    <tr>\n",
       "      <th>3</th>\n",
       "      <td>Apple</td>\n",
       "      <td>MacBook Pro</td>\n",
       "      <td>Ultrabook</td>\n",
       "      <td>15.4\"</td>\n",
       "      <td>IPS Panel Retina Display 2880x1800</td>\n",
       "      <td>Intel Core i7 2.7GHz</td>\n",
       "      <td>16GB</td>\n",
       "      <td>512GB SSD</td>\n",
       "      <td>AMD Radeon Pro 455</td>\n",
       "      <td>macOS</td>\n",
       "      <td>NaN</td>\n",
       "      <td>1.83kg</td>\n",
       "      <td>2537,45</td>\n",
       "    </tr>\n",
       "    <tr>\n",
       "      <th>4</th>\n",
       "      <td>Apple</td>\n",
       "      <td>MacBook Pro</td>\n",
       "      <td>Ultrabook</td>\n",
       "      <td>13.3\"</td>\n",
       "      <td>IPS Panel Retina Display 2560x1600</td>\n",
       "      <td>Intel Core i5 3.1GHz</td>\n",
       "      <td>8GB</td>\n",
       "      <td>256GB SSD</td>\n",
       "      <td>Intel Iris Plus Graphics 650</td>\n",
       "      <td>macOS</td>\n",
       "      <td>NaN</td>\n",
       "      <td>1.37kg</td>\n",
       "      <td>1803,60</td>\n",
       "    </tr>\n",
       "    <tr>\n",
       "      <th>...</th>\n",
       "      <td>...</td>\n",
       "      <td>...</td>\n",
       "      <td>...</td>\n",
       "      <td>...</td>\n",
       "      <td>...</td>\n",
       "      <td>...</td>\n",
       "      <td>...</td>\n",
       "      <td>...</td>\n",
       "      <td>...</td>\n",
       "      <td>...</td>\n",
       "      <td>...</td>\n",
       "      <td>...</td>\n",
       "      <td>...</td>\n",
       "    </tr>\n",
       "    <tr>\n",
       "      <th>1298</th>\n",
       "      <td>Lenovo</td>\n",
       "      <td>Yoga 500-14ISK</td>\n",
       "      <td>2 in 1 Convertible</td>\n",
       "      <td>14.0\"</td>\n",
       "      <td>IPS Panel Full HD / Touchscreen 1920x1080</td>\n",
       "      <td>Intel Core i7 6500U 2.5GHz</td>\n",
       "      <td>4GB</td>\n",
       "      <td>128GB SSD</td>\n",
       "      <td>Intel HD Graphics 520</td>\n",
       "      <td>Windows</td>\n",
       "      <td>10</td>\n",
       "      <td>1.8kg</td>\n",
       "      <td>638,00</td>\n",
       "    </tr>\n",
       "    <tr>\n",
       "      <th>1299</th>\n",
       "      <td>Lenovo</td>\n",
       "      <td>Yoga 900-13ISK</td>\n",
       "      <td>2 in 1 Convertible</td>\n",
       "      <td>13.3\"</td>\n",
       "      <td>IPS Panel Quad HD+ / Touchscreen 3200x1800</td>\n",
       "      <td>Intel Core i7 6500U 2.5GHz</td>\n",
       "      <td>16GB</td>\n",
       "      <td>512GB SSD</td>\n",
       "      <td>Intel HD Graphics 520</td>\n",
       "      <td>Windows</td>\n",
       "      <td>10</td>\n",
       "      <td>1.3kg</td>\n",
       "      <td>1499,00</td>\n",
       "    </tr>\n",
       "    <tr>\n",
       "      <th>1300</th>\n",
       "      <td>Lenovo</td>\n",
       "      <td>IdeaPad 100S-14IBR</td>\n",
       "      <td>Notebook</td>\n",
       "      <td>14.0\"</td>\n",
       "      <td>1366x768</td>\n",
       "      <td>Intel Celeron Dual Core N3050 1.6GHz</td>\n",
       "      <td>2GB</td>\n",
       "      <td>64GB Flash Storage</td>\n",
       "      <td>Intel HD Graphics</td>\n",
       "      <td>Windows</td>\n",
       "      <td>10</td>\n",
       "      <td>1.5kg</td>\n",
       "      <td>229,00</td>\n",
       "    </tr>\n",
       "    <tr>\n",
       "      <th>1301</th>\n",
       "      <td>HP</td>\n",
       "      <td>15-AC110nv (i7-6500U/6GB/1TB/Radeon</td>\n",
       "      <td>Notebook</td>\n",
       "      <td>15.6\"</td>\n",
       "      <td>1366x768</td>\n",
       "      <td>Intel Core i7 6500U 2.5GHz</td>\n",
       "      <td>6GB</td>\n",
       "      <td>1TB HDD</td>\n",
       "      <td>AMD Radeon R5 M330</td>\n",
       "      <td>Windows</td>\n",
       "      <td>10</td>\n",
       "      <td>2.19kg</td>\n",
       "      <td>764,00</td>\n",
       "    </tr>\n",
       "    <tr>\n",
       "      <th>1302</th>\n",
       "      <td>Asus</td>\n",
       "      <td>X553SA-XX031T (N3050/4GB/500GB/W10)</td>\n",
       "      <td>Notebook</td>\n",
       "      <td>15.6\"</td>\n",
       "      <td>1366x768</td>\n",
       "      <td>Intel Celeron Dual Core N3050 1.6GHz</td>\n",
       "      <td>4GB</td>\n",
       "      <td>500GB HDD</td>\n",
       "      <td>Intel HD Graphics</td>\n",
       "      <td>Windows</td>\n",
       "      <td>10</td>\n",
       "      <td>2.2kg</td>\n",
       "      <td>369,00</td>\n",
       "    </tr>\n",
       "  </tbody>\n",
       "</table>\n",
       "<p>1303 rows × 13 columns</p>\n",
       "</div>"
      ],
      "text/plain": [
       "     Manufacturer                           Model Name            Category  \\\n",
       "0           Apple                          MacBook Pro           Ultrabook   \n",
       "1           Apple                          Macbook Air           Ultrabook   \n",
       "2              HP                               250 G6            Notebook   \n",
       "3           Apple                          MacBook Pro           Ultrabook   \n",
       "4           Apple                          MacBook Pro           Ultrabook   \n",
       "...           ...                                  ...                 ...   \n",
       "1298       Lenovo                       Yoga 500-14ISK  2 in 1 Convertible   \n",
       "1299       Lenovo                       Yoga 900-13ISK  2 in 1 Convertible   \n",
       "1300       Lenovo                   IdeaPad 100S-14IBR            Notebook   \n",
       "1301           HP  15-AC110nv (i7-6500U/6GB/1TB/Radeon            Notebook   \n",
       "1302         Asus  X553SA-XX031T (N3050/4GB/500GB/W10)            Notebook   \n",
       "\n",
       "     Screen Size                                      Screen  \\\n",
       "0          13.3\"          IPS Panel Retina Display 2560x1600   \n",
       "1          13.3\"                                    1440x900   \n",
       "2          15.6\"                           Full HD 1920x1080   \n",
       "3          15.4\"          IPS Panel Retina Display 2880x1800   \n",
       "4          13.3\"          IPS Panel Retina Display 2560x1600   \n",
       "...          ...                                         ...   \n",
       "1298       14.0\"   IPS Panel Full HD / Touchscreen 1920x1080   \n",
       "1299       13.3\"  IPS Panel Quad HD+ / Touchscreen 3200x1800   \n",
       "1300       14.0\"                                    1366x768   \n",
       "1301       15.6\"                                    1366x768   \n",
       "1302       15.6\"                                    1366x768   \n",
       "\n",
       "                                       CPU   RAM              Storage  \\\n",
       "0                     Intel Core i5 2.3GHz   8GB            128GB SSD   \n",
       "1                     Intel Core i5 1.8GHz   8GB  128GB Flash Storage   \n",
       "2               Intel Core i5 7200U 2.5GHz   8GB            256GB SSD   \n",
       "3                     Intel Core i7 2.7GHz  16GB            512GB SSD   \n",
       "4                     Intel Core i5 3.1GHz   8GB            256GB SSD   \n",
       "...                                    ...   ...                  ...   \n",
       "1298            Intel Core i7 6500U 2.5GHz   4GB            128GB SSD   \n",
       "1299            Intel Core i7 6500U 2.5GHz  16GB            512GB SSD   \n",
       "1300  Intel Celeron Dual Core N3050 1.6GHz   2GB   64GB Flash Storage   \n",
       "1301            Intel Core i7 6500U 2.5GHz   6GB              1TB HDD   \n",
       "1302  Intel Celeron Dual Core N3050 1.6GHz   4GB            500GB HDD   \n",
       "\n",
       "                               GPU Operating System Operating System Version  \\\n",
       "0     Intel Iris Plus Graphics 640            macOS                      NaN   \n",
       "1           Intel HD Graphics 6000            macOS                      NaN   \n",
       "2            Intel HD Graphics 620            No OS                      NaN   \n",
       "3               AMD Radeon Pro 455            macOS                      NaN   \n",
       "4     Intel Iris Plus Graphics 650            macOS                      NaN   \n",
       "...                            ...              ...                      ...   \n",
       "1298         Intel HD Graphics 520          Windows                       10   \n",
       "1299         Intel HD Graphics 520          Windows                       10   \n",
       "1300             Intel HD Graphics          Windows                       10   \n",
       "1301            AMD Radeon R5 M330          Windows                       10   \n",
       "1302             Intel HD Graphics          Windows                       10   \n",
       "\n",
       "      Weight Price (Euros)  \n",
       "0     1.37kg       1339,69  \n",
       "1     1.34kg        898,94  \n",
       "2     1.86kg        575,00  \n",
       "3     1.83kg       2537,45  \n",
       "4     1.37kg       1803,60  \n",
       "...      ...           ...  \n",
       "1298   1.8kg        638,00  \n",
       "1299   1.3kg       1499,00  \n",
       "1300   1.5kg        229,00  \n",
       "1301  2.19kg        764,00  \n",
       "1302   2.2kg        369,00  \n",
       "\n",
       "[1303 rows x 13 columns]"
      ]
     },
     "execution_count": 13,
     "metadata": {},
     "output_type": "execute_result"
    }
   ],
   "source": [
    "df = pd.read_csv('laptops.csv', encoding='ISO-8859-1')\n",
    "\n",
    "df"
   ]
  },
  {
   "cell_type": "code",
   "execution_count": 14,
   "id": "c174d0db-fbe1-4a11-8a51-02e40e4c296d",
   "metadata": {},
   "outputs": [
    {
     "name": "stdout",
     "output_type": "stream",
     "text": [
      "<class 'pandas.core.frame.DataFrame'>\n",
      "RangeIndex: 1303 entries, 0 to 1302\n",
      "Data columns (total 13 columns):\n",
      " #   Column                    Non-Null Count  Dtype \n",
      "---  ------                    --------------  ----- \n",
      " 0   Manufacturer              1303 non-null   object\n",
      " 1   Model Name                1303 non-null   object\n",
      " 2   Category                  1303 non-null   object\n",
      " 3   Screen Size               1303 non-null   object\n",
      " 4   Screen                    1303 non-null   object\n",
      " 5   CPU                       1303 non-null   object\n",
      " 6   RAM                       1303 non-null   object\n",
      " 7    Storage                  1303 non-null   object\n",
      " 8   GPU                       1303 non-null   object\n",
      " 9   Operating System          1303 non-null   object\n",
      " 10  Operating System Version  1133 non-null   object\n",
      " 11  Weight                    1303 non-null   object\n",
      " 12  Price (Euros)             1303 non-null   object\n",
      "dtypes: object(13)\n",
      "memory usage: 132.5+ KB\n"
     ]
    }
   ],
   "source": [
    "\n",
    "df.info()"
   ]
  },
  {
   "cell_type": "code",
   "execution_count": 15,
   "id": "de6c996f-ceb8-4878-b7e6-885733549dba",
   "metadata": {},
   "outputs": [
    {
     "data": {
      "text/plain": [
       "array(['Apple', 'HP', 'Acer', 'Asus', 'Dell', 'Lenovo', 'Chuwi', 'MSI',\n",
       "       'Microsoft', 'Toshiba', 'Huawei', 'Xiaomi', 'Vero', 'Razer',\n",
       "       'Mediacom', 'Samsung', 'Google', 'Fujitsu', 'LG'], dtype=object)"
      ]
     },
     "execution_count": 15,
     "metadata": {},
     "output_type": "execute_result"
    }
   ],
   "source": [
    "laptop_brand=df.Manufacturer.unique()\n",
    "laptop_brand"
   ]
  },
  {
   "cell_type": "code",
   "execution_count": 16,
   "id": "92a530ed-7d4e-42df-a0ba-c41a6af07686",
   "metadata": {},
   "outputs": [
    {
     "data": {
      "text/plain": [
       "19"
      ]
     },
     "execution_count": 16,
     "metadata": {},
     "output_type": "execute_result"
    }
   ],
   "source": [
    "len(laptop_brand)\n"
   ]
  },
  {
   "cell_type": "code",
   "execution_count": 17,
   "id": "b704a340-34d3-4784-ba46-b8144b67f724",
   "metadata": {},
   "outputs": [
    {
     "data": {
      "text/plain": [
       "Manufacturer                  0\n",
       "Model Name                    0\n",
       "Category                      0\n",
       "Screen Size                   0\n",
       "Screen                        0\n",
       "CPU                           0\n",
       "RAM                           0\n",
       " Storage                      0\n",
       "GPU                           0\n",
       "Operating System              0\n",
       "Operating System Version    170\n",
       "Weight                        0\n",
       "Price (Euros)                 0\n",
       "dtype: int64"
      ]
     },
     "execution_count": 17,
     "metadata": {},
     "output_type": "execute_result"
    }
   ],
   "source": [
    "df.isna().sum()"
   ]
  },
  {
   "cell_type": "code",
   "execution_count": 18,
   "id": "4201debd-aa3d-4031-9b43-067fb7bee750",
   "metadata": {},
   "outputs": [
    {
     "name": "stdout",
     "output_type": "stream",
     "text": [
      "989,99\n"
     ]
    }
   ],
   "source": [
    "\n",
    "df_filtered = df[(df['Manufacturer'] == 'Dell') & (df['Category'] == 'Notebook')]\n",
    "\n",
    "max_price_filtered = df_filtered['Price (Euros)'].max()\n",
    "\n",
    "print(max_price_filtered)\n",
    "\n"
   ]
  },
  {
   "cell_type": "code",
   "execution_count": 19,
   "id": "e37af002-9217-4976-b149-dd62365479ba",
   "metadata": {},
   "outputs": [
    {
     "name": "stdout",
     "output_type": "stream",
     "text": [
      "Manufacturer  Category          \n",
      "Acer          2 in 1 Convertible     999,00\n",
      "              Gaming                 846,00\n",
      "              Netbook                435,00\n",
      "              Notebook               979,00\n",
      "              Ultrabook              989,00\n",
      "Apple         Ultrabook              998,00\n",
      "Asus          2 in 1 Convertible     928,00\n",
      "              Gaming                 999,00\n",
      "              Netbook                340,00\n",
      "              Notebook               945,00\n",
      "              Ultrabook              977,00\n",
      "Chuwi         Notebook               449,00\n",
      "Dell          2 in 1 Convertible     999,00\n",
      "              Gaming                 999,00\n",
      "              Netbook                744,00\n",
      "              Notebook               989,99\n",
      "              Ultrabook              979,00\n",
      "              Workstation           3055,00\n",
      "Fujitsu       Notebook               799,00\n",
      "Google        Ultrabook             2199,00\n",
      "HP            2 in 1 Convertible     836,60\n",
      "              Gaming                 899,00\n",
      "              Netbook                385,00\n",
      "              Notebook               988,00\n",
      "              Ultrabook              752,00\n",
      "              Workstation           4389,00\n",
      "Huawei        Ultrabook             1499,00\n",
      "LG            Ultrabook             2299,00\n",
      "Lenovo        2 in 1 Convertible     999,00\n",
      "              Gaming                 999,00\n",
      "              Netbook                553,00\n",
      "              Notebook               999,00\n",
      "              Ultrabook              831,00\n",
      "              Workstation           3299,00\n",
      "MSI           Gaming                 997,90\n",
      "Mediacom      2 in 1 Convertible     299,00\n",
      "              Notebook               389,00\n",
      "Microsoft     Ultrabook              989,00\n",
      "Razer         Gaming                6099,00\n",
      "              Ultrabook             1799,00\n",
      "Samsung       2 in 1 Convertible     659,00\n",
      "              Netbook                269,00\n",
      "              Notebook              1699,00\n",
      "              Ultrabook             1849,00\n",
      "Toshiba       Notebook               973,00\n",
      "              Ultrabook             2799,00\n",
      "Vero          Notebook               260,00\n",
      "Xiaomi        Notebook              1399,95\n",
      "              Ultrabook              999,90\n",
      "Name: Price (Euros), dtype: object\n"
     ]
    }
   ],
   "source": [
    "# Group by both 'Brand' and 'Category' and then get the maximum price for each group\n",
    "max_prices_by_brand_category = df.groupby(['Manufacturer', 'Category'])['Price (Euros)'].max()\n",
    "\n",
    "print(max_prices_by_brand_category)\n"
   ]
  },
  {
   "cell_type": "code",
   "execution_count": 24,
   "id": "0a99e94c-24a9-497e-936d-44c06fa9d970",
   "metadata": {},
   "outputs": [
    {
     "name": "stdout",
     "output_type": "stream",
     "text": [
      "Median Screen Size: 15.6\n",
      "Mode Screen Size: 0    15.6\n",
      "Name: Screen Size, dtype: float64\n"
     ]
    }
   ],
   "source": [
    "# Strip any whitespace from column names\n",
    "df.columns = df.columns.str.strip()\n",
    "\n",
    "# Ensure the 'Screen Size' column is of string type before using string operations\n",
    "df['Screen Size'] = df['Screen Size'].astype(str)\n",
    "\n",
    "# Remove non-numeric characters such as \" and 'inches' from the 'Screen Size' column\n",
    "df['Screen Size'] = df['Screen Size'].str.replace(r'[^0-9.]', '', regex=True)\n",
    "\n",
    "# Convert the 'Screen Size' column to numeric after cleaning\n",
    "df['Screen Size'] = pd.to_numeric(df['Screen Size'], errors='coerce')\n",
    "\n",
    "# Calculate the median and mode of the cleaned 'Screen Size' column\n",
    "median_screen_size = df['Screen Size'].median()\n",
    "mode_screen_size = df['Screen Size'].mode()\n",
    "\n",
    "# Output the results\n",
    "print(\"Median Screen Size:\", median_screen_size)\n",
    "print(\"Mode Screen Size:\", mode_screen_size)\n",
    "\n"
   ]
  },
  {
   "cell_type": "code",
   "execution_count": 34,
   "id": "693b4bce-158c-4be8-99d2-13783dee24dc",
   "metadata": {},
   "outputs": [
    {
     "name": "stdout",
     "output_type": "stream",
     "text": [
      "Most Frequent (Mode) Screen Size: 0    15.6\n",
      "Name: Screen Size, dtype: float64\n",
      "New Median Screen Size after filling missing values: 15.6\n"
     ]
    }
   ],
   "source": [
    "df['Screen Size'].fillna(mode_screen_size)\n",
    "\n",
    "# Recalculate the median after filling missing values\n",
    "median_screen_size = df['Screen Size'].median()\n",
    "\n",
    "# Output the results\n",
    "print(\"Most Frequent (Mode) Screen Size:\", mode_screen_size)\n",
    "print(\"New Median Screen Size after filling missing values:\", median_screen_size)"
   ]
  },
  {
   "cell_type": "code",
   "execution_count": 32,
   "id": "3208eba8-ce8e-4f76-b9c7-6171ac4ee706",
   "metadata": {},
   "outputs": [
    {
     "data": {
      "text/plain": [
       "299999.99999999994"
      ]
     },
     "execution_count": 32,
     "metadata": {},
     "output_type": "execute_result"
    }
   ],
   "source": [
    "df_i = df[df.Manufacturer == \"Innjoo\"]\n",
    "df_i = df_i[[\"RAM\", \"Storage\", \"Screen Size\"]]\n",
    "df_i = df_i.drop_duplicates()\n",
    "X = df_i.values\n",
    "XTX = X.T.dot(X)\n",
    "\n",
    "lambda_identity = 1e-5 * np.eye(XTX.shape[0])  # Small regularization term\n",
    "XTX_reg = XTX + lambda_identity\n",
    "\n",
    "XTX_inv = np.linalg.inv(XTX_reg)\n",
    "XTX_inv.sum()"
   ]
  },
  {
   "cell_type": "code",
   "execution_count": null,
   "id": "791bfa4d-1afb-4233-a2b0-3b42e8e1197c",
   "metadata": {},
   "outputs": [],
   "source": []
  }
 ],
 "metadata": {
  "kernelspec": {
   "display_name": "Python 3 (ipykernel)",
   "language": "python",
   "name": "python3"
  },
  "language_info": {
   "codemirror_mode": {
    "name": "ipython",
    "version": 3
   },
   "file_extension": ".py",
   "mimetype": "text/x-python",
   "name": "python",
   "nbconvert_exporter": "python",
   "pygments_lexer": "ipython3",
   "version": "3.11.9"
  }
 },
 "nbformat": 4,
 "nbformat_minor": 5
}
